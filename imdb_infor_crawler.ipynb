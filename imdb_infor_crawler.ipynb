{
 "metadata": {
  "language_info": {
   "codemirror_mode": {
    "name": "ipython",
    "version": 3
   },
   "file_extension": ".py",
   "mimetype": "text/x-python",
   "name": "python",
   "nbconvert_exporter": "python",
   "pygments_lexer": "ipython3",
   "version": "3.8.3-final"
  },
  "orig_nbformat": 2,
  "kernelspec": {
   "name": "python3",
   "display_name": "Python 3"
  }
 },
 "nbformat": 4,
 "nbformat_minor": 2,
 "cells": [
  {
   "cell_type": "code",
   "execution_count": 1,
   "metadata": {},
   "outputs": [],
   "source": [
    "from selenium import webdriver \n",
    "from selenium.webdriver.chrome.options import Options\n",
    "from selenium.webdriver.common.by import By\n",
    "from selenium.webdriver.support.ui import WebDriverWait\n",
    "from selenium.webdriver.support import expected_conditions as EC\n",
    "\n",
    "from bs4 import BeautifulSoup\n",
    "import pandas as pd\n",
    "\n",
    "import time\n",
    "import os\n",
    "import csv\n",
    "import json\n",
    "import re"
   ]
  },
  {
   "cell_type": "code",
   "execution_count": 2,
   "metadata": {},
   "outputs": [],
   "source": [
    "URL = \"https://www.imdb.com/search/title/?title_type=feature&release_date=1990-01-01,2020-12-31&user_rating=7.5,&num_votes=100,&languages=en&count=250&start=\"\n",
    "\n"
   ]
  },
  {
   "cell_type": "code",
   "execution_count": 3,
   "metadata": {},
   "outputs": [],
   "source": [
    "chrome_options = Options() \n",
    "chrome_options.add_argument(\"--headless\") \n",
    "chrome_options.add_argument(\"--window-size=1920x1080\")\n",
    "chrome_options.add_argument('blink-settings=imagesEnabled=false')  \n",
    "\n",
    "# download the chrome driver from https://sites.google.com/a/chromium.org/chromedriver/downloads \n",
    "# and put it in the current directory \n",
    "chrome_driver = os.getcwd() + \"\\\\chromedriver2_win32\" + \"\\\\chromedriver.exe\" \n",
    "\n",
    "driver = webdriver.Chrome(options=chrome_options, executable_path=chrome_driver)"
   ]
  },
  {
   "cell_type": "code",
   "execution_count": 4,
   "metadata": {},
   "outputs": [],
   "source": [
    "def getDetail(driver):\n",
    "    filmInfor = list()\n",
    "    for film in driver.find_elements_by_xpath(\"//div[@class='lister-list']/div\"):\n",
    "        temp=list()\n",
    "        try:\n",
    "            title=film.find_element_by_xpath(\"div[3]/h3/a\").text\n",
    "        except:\n",
    "            title=\"\"\n",
    "        try:\n",
    "            year = film.find_element_by_xpath(\"div[3]/h3/span[2]\").text \n",
    "            year = re.findall(r\"\\d+\",year)[0] #get the year\n",
    "        except:\n",
    "            year=\"\"\n",
    "        try:\n",
    "            certificate = film.find_element_by_xpath(\"div[3]/p[1]/span[1]\").text\n",
    "        except:\n",
    "            certificate=\"\"\n",
    "        try:\n",
    "            runtime = film.find_element_by_xpath(\"div[3]/p[1]/span[3]\").text\n",
    "        except:\n",
    "            runtime=\"\"\n",
    "        try:\n",
    "            genre = film.find_element_by_xpath(\"div[3]/p[1]/span[5]\").text\n",
    "        except:\n",
    "            genre=\"\"\n",
    "        try:\n",
    "            rating = film.find_element_by_xpath(\"div[3]/div/div[1]/strong\").text\n",
    "        except:\n",
    "            rating=\"\"\n",
    "        try:\n",
    "            text = film.find_element_by_xpath(\"div[3]/p[2]\").text\n",
    "        except:\n",
    "            text=\"\"\n",
    "        try:\n",
    "            director = film.find_element_by_xpath(\"div[3]/p[3]/a[1]\").text\n",
    "        except:\n",
    "            director=\"\"\n",
    "        try:\n",
    "            stars =  film.find_element_by_xpath(\"div[3]/p[3]\").text\n",
    "            stars = re.findall(r\"Stars:\\s(.*)\",stars)[0]\n",
    "        except:\n",
    "            stars=\"\"\n",
    "        try:\n",
    "            gross = film.find_element_by_xpath(\"div[3]/p[4]/span[5]\").text\n",
    "        except:\n",
    "            gross=\"\"\n",
    "        temp.append(title)\n",
    "        temp.append(year)\n",
    "        temp.append(certificate)\n",
    "        temp.append(runtime)\n",
    "        temp.append(genre)    \n",
    "        temp.append(rating)   \n",
    "        temp.append(text) \n",
    "        temp.append(director)\n",
    "        temp.append(stars)\n",
    "        temp.append(gross)\n",
    "        filmInfor.append(temp)\n",
    "    return filmInfor\n"
   ]
  },
  {
   "cell_type": "code",
   "execution_count": 5,
   "metadata": {},
   "outputs": [
    {
     "output_type": "stream",
     "name": "stdout",
     "text": [
      "0\n",
      "1\n",
      "2\n",
      "3\n",
      "4\n",
      "5\n",
      "Wall time: 9min 33s\n"
     ]
    }
   ],
   "source": [
    "%%time\n",
    "csvFile = open(\"filmInfor.csv\", 'wt', newline='\\n', encoding='utf-8')\n",
    "writer = csv.writer(csvFile)\n",
    "header = ['title','year','certificate','runtime','genre','rating','text','director','stars','gross']\n",
    "writer.writerow(header)\n",
    "for i in range(6):\n",
    "    driver.get(URL+str(i*250+1))\n",
    "    print(i)\n",
    "    filmInfor=getDetail(driver)\n",
    "    writer.writerows(filmInfor)\n",
    "csvFile.close()"
   ]
  },
  {
   "cell_type": "code",
   "execution_count": 6,
   "metadata": {},
   "outputs": [
    {
     "output_type": "execute_result",
     "data": {
      "text/plain": [
       "                                                  title  year certificate  \\\n",
       "0                            The Trial of the Chicago 7  2020        NC16   \n",
       "1                                                 Tenet  2020        PG13   \n",
       "2                                                Clouds  2020       PG-13   \n",
       "3                                         The Gentlemen  2019         M18   \n",
       "4                                             Moneyball  2011        PG13   \n",
       "...                                                 ...   ...         ...   \n",
       "1265                                  Stinging Memories  2015       Drama   \n",
       "1266                        Who Is He That Has Returned  2016     164 min   \n",
       "1267                             Sweetness in Adversity  2017       Drama   \n",
       "1268                                          Awakening  2015       Drama   \n",
       "1269  Musical Drama Chinese Gospel Choir 19th Perfor...  2017       Drama   \n",
       "\n",
       "      runtime                     genre  rating  \\\n",
       "0     129 min  Drama, History, Thriller     7.9   \n",
       "1     150 min            Action, Sci-Fi     7.8   \n",
       "2     121 min              Drama, Music     7.5   \n",
       "3     113 min     Action, Comedy, Crime     7.9   \n",
       "4     133 min   Biography, Drama, Sport     7.6   \n",
       "...       ...                       ...     ...   \n",
       "1265      NaN                       NaN     8.3   \n",
       "1266    Drama                       NaN     8.3   \n",
       "1267      NaN                       NaN     8.2   \n",
       "1268      NaN                       NaN     8.4   \n",
       "1269      NaN                       NaN     8.0   \n",
       "\n",
       "                                                   text           director  \\\n",
       "0     The story of 7 people on trial stemming from v...       Aaron Sorkin   \n",
       "1     Armed with only one word, Tenet, and fighting ...  Christopher Nolan   \n",
       "2     Young musician Zach Sobiech discovers his canc...     Justin Baldoni   \n",
       "3     An American expat tries to sell off his highly...        Guy Ritchie   \n",
       "4     Oakland A's general manager Billy Beane's succ...     Bennett Miller   \n",
       "...                                                 ...                ...   \n",
       "1265  Fan Guoyi was an elder of a house church in Ch...           Jia Tian   \n",
       "1266  Kim Yeongrok was a devout pastor in the Korean...        Hangsim Cho   \n",
       "1267                                         Add a Plot           Qiang Li   \n",
       "1268                                         Add a Plot            Wei Wei   \n",
       "1269  Under a starry, quiet and peaceful night sky, ...             Bao Da   \n",
       "\n",
       "                                                  stars    gross  \n",
       "0     Eddie Redmayne, Alex Sharp, Sacha Baron Cohen,...      NaN  \n",
       "1     John David Washington, Robert Pattinson, Eliza...  $45.10M  \n",
       "2     Fin Argus, Neve Campbell, Sabrina Carpenter, M...      NaN  \n",
       "3     Matthew McConaughey, Charlie Hunnam, Michelle ...      NaN  \n",
       "4     Brad Pitt, Robin Wright, Jonah Hill, Philip Se...  $75.61M  \n",
       "...                                                 ...      ...  \n",
       "1265          Mingzhi Li, Xiang Li, Yi Zheng, Tao Zhang      NaN  \n",
       "1266  Hangsim Cho, Myeongsuk Cho, Jihye Choi, Gyeong...      NaN  \n",
       "1267     Chenzhuo Du, Liang Gao, Baoquan Li, Xinjun Liu      NaN  \n",
       "1268  Mingzhong Chen, Xiang Fang, Yuxin Huang, Qiche...      NaN  \n",
       "1269                                                NaN      NaN  \n",
       "\n",
       "[1270 rows x 10 columns]"
      ],
      "text/html": "<div>\n<style scoped>\n    .dataframe tbody tr th:only-of-type {\n        vertical-align: middle;\n    }\n\n    .dataframe tbody tr th {\n        vertical-align: top;\n    }\n\n    .dataframe thead th {\n        text-align: right;\n    }\n</style>\n<table border=\"1\" class=\"dataframe\">\n  <thead>\n    <tr style=\"text-align: right;\">\n      <th></th>\n      <th>title</th>\n      <th>year</th>\n      <th>certificate</th>\n      <th>runtime</th>\n      <th>genre</th>\n      <th>rating</th>\n      <th>text</th>\n      <th>director</th>\n      <th>stars</th>\n      <th>gross</th>\n    </tr>\n  </thead>\n  <tbody>\n    <tr>\n      <th>0</th>\n      <td>The Trial of the Chicago 7</td>\n      <td>2020</td>\n      <td>NC16</td>\n      <td>129 min</td>\n      <td>Drama, History, Thriller</td>\n      <td>7.9</td>\n      <td>The story of 7 people on trial stemming from v...</td>\n      <td>Aaron Sorkin</td>\n      <td>Eddie Redmayne, Alex Sharp, Sacha Baron Cohen,...</td>\n      <td>NaN</td>\n    </tr>\n    <tr>\n      <th>1</th>\n      <td>Tenet</td>\n      <td>2020</td>\n      <td>PG13</td>\n      <td>150 min</td>\n      <td>Action, Sci-Fi</td>\n      <td>7.8</td>\n      <td>Armed with only one word, Tenet, and fighting ...</td>\n      <td>Christopher Nolan</td>\n      <td>John David Washington, Robert Pattinson, Eliza...</td>\n      <td>$45.10M</td>\n    </tr>\n    <tr>\n      <th>2</th>\n      <td>Clouds</td>\n      <td>2020</td>\n      <td>PG-13</td>\n      <td>121 min</td>\n      <td>Drama, Music</td>\n      <td>7.5</td>\n      <td>Young musician Zach Sobiech discovers his canc...</td>\n      <td>Justin Baldoni</td>\n      <td>Fin Argus, Neve Campbell, Sabrina Carpenter, M...</td>\n      <td>NaN</td>\n    </tr>\n    <tr>\n      <th>3</th>\n      <td>The Gentlemen</td>\n      <td>2019</td>\n      <td>M18</td>\n      <td>113 min</td>\n      <td>Action, Comedy, Crime</td>\n      <td>7.9</td>\n      <td>An American expat tries to sell off his highly...</td>\n      <td>Guy Ritchie</td>\n      <td>Matthew McConaughey, Charlie Hunnam, Michelle ...</td>\n      <td>NaN</td>\n    </tr>\n    <tr>\n      <th>4</th>\n      <td>Moneyball</td>\n      <td>2011</td>\n      <td>PG13</td>\n      <td>133 min</td>\n      <td>Biography, Drama, Sport</td>\n      <td>7.6</td>\n      <td>Oakland A's general manager Billy Beane's succ...</td>\n      <td>Bennett Miller</td>\n      <td>Brad Pitt, Robin Wright, Jonah Hill, Philip Se...</td>\n      <td>$75.61M</td>\n    </tr>\n    <tr>\n      <th>...</th>\n      <td>...</td>\n      <td>...</td>\n      <td>...</td>\n      <td>...</td>\n      <td>...</td>\n      <td>...</td>\n      <td>...</td>\n      <td>...</td>\n      <td>...</td>\n      <td>...</td>\n    </tr>\n    <tr>\n      <th>1265</th>\n      <td>Stinging Memories</td>\n      <td>2015</td>\n      <td>Drama</td>\n      <td>NaN</td>\n      <td>NaN</td>\n      <td>8.3</td>\n      <td>Fan Guoyi was an elder of a house church in Ch...</td>\n      <td>Jia Tian</td>\n      <td>Mingzhi Li, Xiang Li, Yi Zheng, Tao Zhang</td>\n      <td>NaN</td>\n    </tr>\n    <tr>\n      <th>1266</th>\n      <td>Who Is He That Has Returned</td>\n      <td>2016</td>\n      <td>164 min</td>\n      <td>Drama</td>\n      <td>NaN</td>\n      <td>8.3</td>\n      <td>Kim Yeongrok was a devout pastor in the Korean...</td>\n      <td>Hangsim Cho</td>\n      <td>Hangsim Cho, Myeongsuk Cho, Jihye Choi, Gyeong...</td>\n      <td>NaN</td>\n    </tr>\n    <tr>\n      <th>1267</th>\n      <td>Sweetness in Adversity</td>\n      <td>2017</td>\n      <td>Drama</td>\n      <td>NaN</td>\n      <td>NaN</td>\n      <td>8.2</td>\n      <td>Add a Plot</td>\n      <td>Qiang Li</td>\n      <td>Chenzhuo Du, Liang Gao, Baoquan Li, Xinjun Liu</td>\n      <td>NaN</td>\n    </tr>\n    <tr>\n      <th>1268</th>\n      <td>Awakening</td>\n      <td>2015</td>\n      <td>Drama</td>\n      <td>NaN</td>\n      <td>NaN</td>\n      <td>8.4</td>\n      <td>Add a Plot</td>\n      <td>Wei Wei</td>\n      <td>Mingzhong Chen, Xiang Fang, Yuxin Huang, Qiche...</td>\n      <td>NaN</td>\n    </tr>\n    <tr>\n      <th>1269</th>\n      <td>Musical Drama Chinese Gospel Choir 19th Perfor...</td>\n      <td>2017</td>\n      <td>Drama</td>\n      <td>NaN</td>\n      <td>NaN</td>\n      <td>8.0</td>\n      <td>Under a starry, quiet and peaceful night sky, ...</td>\n      <td>Bao Da</td>\n      <td>NaN</td>\n      <td>NaN</td>\n    </tr>\n  </tbody>\n</table>\n<p>1270 rows × 10 columns</p>\n</div>"
     },
     "metadata": {},
     "execution_count": 6
    }
   ],
   "source": [
    "pd.read_csv(\"filmInfor.csv\")"
   ]
  },
  {
   "cell_type": "code",
   "execution_count": null,
   "metadata": {},
   "outputs": [],
   "source": []
  }
 ]
}