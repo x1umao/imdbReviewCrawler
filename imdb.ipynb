{
 "metadata": {
  "language_info": {
   "codemirror_mode": {
    "name": "ipython",
    "version": 3
   },
   "file_extension": ".py",
   "mimetype": "text/x-python",
   "name": "python",
   "nbconvert_exporter": "python",
   "pygments_lexer": "ipython3",
   "version": "3.8.3-final"
  },
  "orig_nbformat": 2,
  "kernelspec": {
   "name": "python3",
   "display_name": "Python 3"
  }
 },
 "nbformat": 4,
 "nbformat_minor": 2,
 "cells": [
  {
   "cell_type": "code",
   "execution_count": 190,
   "metadata": {},
   "outputs": [],
   "source": [
    "from selenium import webdriver \n",
    "from selenium.webdriver.chrome.options import Options\n",
    "from selenium.webdriver.common.by import By\n",
    "from selenium.webdriver.support.ui import WebDriverWait\n",
    "from selenium.webdriver.support import expected_conditions as EC\n",
    "\n",
    "from bs4 import BeautifulSoup\n",
    "import pandas as pd\n",
    "\n",
    "import time\n",
    "import os\n",
    "import csv\n",
    "import json\n",
    "import re\n",
    "MOSTPOPULAR = \"https://www.imdb.com/chart/moviemeter/?ref_=nv_mv_mpm\""
   ]
  },
  {
   "cell_type": "code",
   "execution_count": 191,
   "metadata": {},
   "outputs": [],
   "source": [
    "def getFilmInfor(url):\n",
    "    # instantiate a chrome options object so you can set the size and headless preference \n",
    "    chrome_options = Options() \n",
    "    chrome_options.add_argument(\"--headless\") \n",
    "    chrome_options.add_argument(\"--window-size=1920x1080\")\n",
    "    chrome_options.add_argument('blink-settings=imagesEnabled=false')  \n",
    "    \n",
    "    # download the chrome driver from https://sites.google.com/a/chromium.org/chromedriver/downloads \n",
    "    # and put it in the current directory \n",
    "    chrome_driver = os.getcwd() + \"\\\\chromedriver2_win32\" + \"\\\\chromedriver.exe\" \n",
    "\n",
    "    driver = webdriver.Chrome(options=chrome_options, executable_path=chrome_driver)\n",
    "    driver.get(url)\n",
    "    # get all id and title\n",
    "    filmInfor = list()\n",
    "    for film in driver.find_elements_by_xpath(\"//tbody[@class='lister-list']/tr\"):\n",
    "        title = film.find_element_by_xpath(\"td[2]/a\").text\n",
    "        filmId = film.find_element_by_xpath(\"td[4]/div\").get_attribute(\"data-titleid\")\n",
    "        try:\n",
    "            avgStars = film.find_element_by_xpath(\"td[3]\").text\n",
    "        except:\n",
    "            avgStars = ''\n",
    "        try:\n",
    "           year = film.find_element_by_xpath(\"td[2]/span\").text \n",
    "           year = re.findall(r\"\\d+\",year)[0] #get the year\n",
    "        except:\n",
    "            year = ''\n",
    "        filmInfor.append([filmId,title,year,avgStars])\n",
    "    print(len(filmIdAndTitle))\n",
    "    driver.quit()\n",
    "    return filmInfor"
   ]
  },
  {
   "cell_type": "code",
   "execution_count": 192,
   "metadata": {},
   "outputs": [],
   "source": [
    "def getReviews(filmId):\n",
    "    chrome_options = Options() \n",
    "    chrome_options.add_argument(\"--headless\") \n",
    "    chrome_options.add_argument(\"--window-size=1920x1080\") \n",
    "    chrome_options.add_argument('blink-settings=imagesEnabled=false') \n",
    "    url = \"https://www.imdb.com/title/\"+filmId+\"/reviews\"\n",
    "\n",
    "    chrome_driver = os.getcwd() + \"\\\\chromedriver2_win32\" + \"\\\\chromedriver.exe\" \n",
    "    driver = webdriver.Chrome(options=chrome_options, executable_path=chrome_driver)\n",
    "    wait = WebDriverWait(driver,10)\n",
    "\n",
    "    driver.get(url)\n",
    "    soup = BeautifulSoup(driver.page_source, 'lxml')\n",
    "    while True:\n",
    "        try:\n",
    "            driver.find_element_by_css_selector(\"button#load-more-trigger\").click()\n",
    "            wait.until(EC.invisibility_of_element_located((By.CSS_SELECTOR,\".ipl-load-more__load-indicator\")))\n",
    "            soup = BeautifulSoup(driver.page_source, 'lxml')\n",
    "        except Exception:break\n",
    " \n",
    "    reviews = list()#[stars,text]\n",
    "    for review in soup.find_all(class_='imdb-user-review'):\n",
    "        if review.find(\"span\",class_=\"spoiler-warning\")==None:\n",
    "            try:\n",
    "                text = review.find(class_='show-more__control').get_text(strip=True)\n",
    "                stars = review.find(class_=\"rating-other-user-rating\").get_text(strip=True).split(\"/\")[0]\n",
    "                reviews.append([stars,text])\n",
    "            except:\n",
    "                pass\n",
    "    driver.quit()\n",
    "    return reviews"
   ]
  },
  {
   "cell_type": "code",
   "execution_count": 187,
   "metadata": {},
   "outputs": [
    {
     "output_type": "stream",
     "name": "stdout",
     "text": [
      "100\n",
      "Wall time: 1min 36s\n"
     ]
    }
   ],
   "source": [
    "%%time\n",
    "csvFile = open(\"most_popular_films.csv\", 'wt', newline='\\n', encoding='utf-8')\n",
    "writer = csv.writer(csvFile)\n",
    "header = ['id','name','year','avg_stars','stars','review']\n",
    "writer.writerow(header)\n",
    "for filmInfor in getFilmInfor(MOSTPOPULAR):\n",
    "    temp = list()\n",
    "    for review in getReviews(filmInfor[0]):\n",
    "        temp.append(filmInfor+review)\n",
    "    writer.writerows(temp)\n",
    "    print(filmInfor[1]+\"is done\")\n",
    "    print(\"-------------------------\")\n",
    "csvFile.close()"
   ]
  },
  {
   "cell_type": "code",
   "execution_count": 188,
   "metadata": {},
   "outputs": [],
   "source": [
    "df = pd.read_csv(\"most_popular_films.csv\")"
   ]
  },
  {
   "cell_type": "code",
   "execution_count": 189,
   "metadata": {},
   "outputs": [
    {
     "output_type": "execute_result",
     "data": {
      "text/plain": [
       "             id                                               name  year  \\\n",
       "0    tt13143964  Borat Subsequent Moviefilm: Delivery of Prodig...  2020   \n",
       "1    tt13143964  Borat Subsequent Moviefilm: Delivery of Prodig...  2020   \n",
       "2    tt13143964  Borat Subsequent Moviefilm: Delivery of Prodig...  2020   \n",
       "3    tt13143964  Borat Subsequent Moviefilm: Delivery of Prodig...  2020   \n",
       "4    tt13143964  Borat Subsequent Moviefilm: Delivery of Prodig...  2020   \n",
       "..          ...                                                ...   ...   \n",
       "774  tt13143964  Borat Subsequent Moviefilm: Delivery of Prodig...  2020   \n",
       "775  tt13143964  Borat Subsequent Moviefilm: Delivery of Prodig...  2020   \n",
       "776  tt13143964  Borat Subsequent Moviefilm: Delivery of Prodig...  2020   \n",
       "777  tt13143964  Borat Subsequent Moviefilm: Delivery of Prodig...  2020   \n",
       "778  tt13143964  Borat Subsequent Moviefilm: Delivery of Prodig...  2020   \n",
       "\n",
       "     avg_stars  stars                                             review  \n",
       "0          6.9     10  Borat Make a *Glorious* #2! Subsequent Moviefi...  \n",
       "1          6.9     10  My husband loved SCB in all his incarnations (...  \n",
       "2          6.9     10  What's even funnier than the movie itself, is ...  \n",
       "3          6.9     10  For those saying Giuliani was just tucking in ...  \n",
       "4          6.9     10  Nothing more needs to be said than: LOOK at th...  \n",
       "..         ...    ...                                                ...  \n",
       "774        6.9      5  The original Borat struck the world at the PER...  \n",
       "775        6.9      5  Doesn't have the same charm as the first one. ...  \n",
       "776        6.9      5  A few laugh out loud moments, compared to the ...  \n",
       "777        6.9      6  Jagshemash! In this movie, Borat goes back to ...  \n",
       "778        6.9      5  Some laughs but struggled to find the meaning ...  \n",
       "\n",
       "[779 rows x 6 columns]"
      ],
      "text/html": "<div>\n<style scoped>\n    .dataframe tbody tr th:only-of-type {\n        vertical-align: middle;\n    }\n\n    .dataframe tbody tr th {\n        vertical-align: top;\n    }\n\n    .dataframe thead th {\n        text-align: right;\n    }\n</style>\n<table border=\"1\" class=\"dataframe\">\n  <thead>\n    <tr style=\"text-align: right;\">\n      <th></th>\n      <th>id</th>\n      <th>name</th>\n      <th>year</th>\n      <th>avg_stars</th>\n      <th>stars</th>\n      <th>review</th>\n    </tr>\n  </thead>\n  <tbody>\n    <tr>\n      <th>0</th>\n      <td>tt13143964</td>\n      <td>Borat Subsequent Moviefilm: Delivery of Prodig...</td>\n      <td>2020</td>\n      <td>6.9</td>\n      <td>10</td>\n      <td>Borat Make a *Glorious* #2! Subsequent Moviefi...</td>\n    </tr>\n    <tr>\n      <th>1</th>\n      <td>tt13143964</td>\n      <td>Borat Subsequent Moviefilm: Delivery of Prodig...</td>\n      <td>2020</td>\n      <td>6.9</td>\n      <td>10</td>\n      <td>My husband loved SCB in all his incarnations (...</td>\n    </tr>\n    <tr>\n      <th>2</th>\n      <td>tt13143964</td>\n      <td>Borat Subsequent Moviefilm: Delivery of Prodig...</td>\n      <td>2020</td>\n      <td>6.9</td>\n      <td>10</td>\n      <td>What's even funnier than the movie itself, is ...</td>\n    </tr>\n    <tr>\n      <th>3</th>\n      <td>tt13143964</td>\n      <td>Borat Subsequent Moviefilm: Delivery of Prodig...</td>\n      <td>2020</td>\n      <td>6.9</td>\n      <td>10</td>\n      <td>For those saying Giuliani was just tucking in ...</td>\n    </tr>\n    <tr>\n      <th>4</th>\n      <td>tt13143964</td>\n      <td>Borat Subsequent Moviefilm: Delivery of Prodig...</td>\n      <td>2020</td>\n      <td>6.9</td>\n      <td>10</td>\n      <td>Nothing more needs to be said than: LOOK at th...</td>\n    </tr>\n    <tr>\n      <th>...</th>\n      <td>...</td>\n      <td>...</td>\n      <td>...</td>\n      <td>...</td>\n      <td>...</td>\n      <td>...</td>\n    </tr>\n    <tr>\n      <th>774</th>\n      <td>tt13143964</td>\n      <td>Borat Subsequent Moviefilm: Delivery of Prodig...</td>\n      <td>2020</td>\n      <td>6.9</td>\n      <td>5</td>\n      <td>The original Borat struck the world at the PER...</td>\n    </tr>\n    <tr>\n      <th>775</th>\n      <td>tt13143964</td>\n      <td>Borat Subsequent Moviefilm: Delivery of Prodig...</td>\n      <td>2020</td>\n      <td>6.9</td>\n      <td>5</td>\n      <td>Doesn't have the same charm as the first one. ...</td>\n    </tr>\n    <tr>\n      <th>776</th>\n      <td>tt13143964</td>\n      <td>Borat Subsequent Moviefilm: Delivery of Prodig...</td>\n      <td>2020</td>\n      <td>6.9</td>\n      <td>5</td>\n      <td>A few laugh out loud moments, compared to the ...</td>\n    </tr>\n    <tr>\n      <th>777</th>\n      <td>tt13143964</td>\n      <td>Borat Subsequent Moviefilm: Delivery of Prodig...</td>\n      <td>2020</td>\n      <td>6.9</td>\n      <td>6</td>\n      <td>Jagshemash! In this movie, Borat goes back to ...</td>\n    </tr>\n    <tr>\n      <th>778</th>\n      <td>tt13143964</td>\n      <td>Borat Subsequent Moviefilm: Delivery of Prodig...</td>\n      <td>2020</td>\n      <td>6.9</td>\n      <td>5</td>\n      <td>Some laughs but struggled to find the meaning ...</td>\n    </tr>\n  </tbody>\n</table>\n<p>779 rows × 6 columns</p>\n</div>"
     },
     "metadata": {},
     "execution_count": 189
    }
   ],
   "source": [
    "df"
   ]
  },
  {
   "cell_type": "code",
   "execution_count": null,
   "metadata": {},
   "outputs": [],
   "source": []
  }
 ]
}